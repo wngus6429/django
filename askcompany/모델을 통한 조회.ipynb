{
 "cells": [
  {
   "cell_type": "code",
   "execution_count": 2,
   "id": "f4dcf740",
   "metadata": {},
   "outputs": [],
   "source": [
    "import os\n",
    "os.environ['DJANGO_SETTINGS_MODULE'] = 'askcompany.settings'\n",
    "os.environ['DJANGO_ALLOW_ASYNC_UNSAFE'] = 'true'\n",
    "\n",
    "import django\n",
    "django.setup()"
   ]
  },
  {
   "cell_type": "code",
   "execution_count": 3,
   "id": "4ce075eb",
   "metadata": {
    "scrolled": true
   },
   "outputs": [],
   "source": [
    "from instagram.models import Post"
   ]
  },
  {
   "cell_type": "code",
   "execution_count": 10,
   "id": "bed77a26",
   "metadata": {},
   "outputs": [
    {
     "name": "stdout",
     "output_type": "stream",
     "text": [
      "타입= <class 'django.db.models.query.QuerySet'>\n",
      "SELECT \"instagram_post\".\"id\", \"instagram_post\".\"message\", \"instagram_post\".\"photo\", \"instagram_post\".\"is_public\", \"instagram_post\".\"created_at\", \"instagram_post\".\"updated_at\" FROM \"instagram_post\"\n"
     ]
    },
    {
     "data": {
      "text/plain": [
       "<QuerySet [<Post: 첫번째 메세지>, <Post: kakunin>, <Post: 확인이요>, <Post: 확인 사진 캐릭터>, <Post: 길이확인>, <Post: ㅇㅇㅇㅇㅇ>]>"
      ]
     },
     "execution_count": 10,
     "metadata": {},
     "output_type": "execute_result"
    }
   ],
   "source": [
    "qs = Post.objects.all()\n",
    "print(\"타입=\", type(qs))\n",
    "print(qs.query)\n",
    "qs"
   ]
  },
  {
   "cell_type": "code",
   "execution_count": 17,
   "id": "7e909962",
   "metadata": {},
   "outputs": [
    {
     "name": "stdout",
     "output_type": "stream",
     "text": [
      "타입= <class 'django.db.models.query.QuerySet'>\n",
      "SELECT \"instagram_post\".\"id\", \"instagram_post\".\"message\", \"instagram_post\".\"photo\", \"instagram_post\".\"is_public\", \"instagram_post\".\"created_at\", \"instagram_post\".\"updated_at\" FROM \"instagram_post\" ORDER BY \"instagram_post\".\"id\" DESC\n"
     ]
    },
    {
     "data": {
      "text/plain": [
       "<QuerySet [<Post: ㅇㅇㅇㅇㅇ>, <Post: 길이확인>, <Post: 확인 사진 캐릭터>, <Post: 확인이요>, <Post: kakunin>, <Post: 첫번째 메세지>]>"
      ]
     },
     "execution_count": 17,
     "metadata": {},
     "output_type": "execute_result"
    }
   ],
   "source": [
    "qs = Post.objects.all().order_by('-id') # -id 하면 내림차순이 된다.\n",
    "print(\"타입=\", type(qs))\n",
    "print(qs.query)\n",
    "qs"
   ]
  },
  {
   "cell_type": "code",
   "execution_count": 18,
   "id": "e4c95f59",
   "metadata": {},
   "outputs": [
    {
     "name": "stdout",
     "output_type": "stream",
     "text": [
      "타입= <class 'django.db.models.query.QuerySet'>\n",
      "SELECT \"instagram_post\".\"id\", \"instagram_post\".\"message\", \"instagram_post\".\"photo\", \"instagram_post\".\"is_public\", \"instagram_post\".\"created_at\", \"instagram_post\".\"updated_at\" FROM \"instagram_post\" ORDER BY \"instagram_post\".\"id\" DESC LIMIT 2\n"
     ]
    },
    {
     "data": {
      "text/plain": [
       "<QuerySet [<Post: ㅇㅇㅇㅇㅇ>, <Post: 길이확인>]>"
      ]
     },
     "execution_count": 18,
     "metadata": {},
     "output_type": "execute_result"
    }
   ],
   "source": [
    "qs = Post.objects.all().order_by('-id')[:2]\n",
    "print(\"타입=\", type(qs))\n",
    "print(qs.query)\n",
    "qs"
   ]
  },
  {
   "cell_type": "code",
   "execution_count": 29,
   "id": "e827c516",
   "metadata": {},
   "outputs": [
    {
     "name": "stdout",
     "output_type": "stream",
     "text": [
      "ㅇㅇㅇㅇㅇ 2023-01-15 07:11:19.570892+00:00\n",
      "{'_state': <django.db.models.base.ModelState object at 0x0000016B03F055E0>, 'id': 9, 'message': 'ㅇㅇㅇㅇㅇ', 'photo': 'instagram/post/2023/01/15/00584-980620622-blurry_blurry_foreground_depth_of_field_blurry_background_motion_blur_focused_breasts_brown_hair_cleavage_rating_safe_blur_censo_1.png', 'is_public': False, 'created_at': datetime.datetime(2023, 1, 15, 7, 11, 19, 570892, tzinfo=<UTC>), 'updated_at': datetime.datetime(2023, 1, 15, 7, 11, 19, 570892, tzinfo=<UTC>)}\n",
      "ㅡㅡㅡㅡㅡㅡㅡㅡㅡㅡㅡㅡㅡㅡㅡㅡㅡㅡㅡㅡㅡㅡㅡㅡㅡㅡㅡㅡㅡㅡㅡ\n",
      "아이디는 = 9 메세지는 = ㅇㅇㅇㅇㅇ 생성날짜는 = 2023-01-15 07:11:19.570892+00:00\n",
      "길이확인 2023-01-15 07:01:47.269439+00:00\n",
      "{'_state': <django.db.models.base.ModelState object at 0x0000016B03F058B0>, 'id': 8, 'message': '길이확인', 'photo': 'instagram/post/2023/01/15/00653-2888676976-virtual_youtuber_inugami_korone_dog_ears_animal_ears_dog_girl_maid_headdress_rating_safe_1girl_dog_tail_bone_hair_ornament_tail.png', 'is_public': False, 'created_at': datetime.datetime(2023, 1, 15, 7, 1, 47, 269439, tzinfo=<UTC>), 'updated_at': datetime.datetime(2023, 1, 15, 7, 1, 47, 269439, tzinfo=<UTC>)}\n",
      "ㅡㅡㅡㅡㅡㅡㅡㅡㅡㅡㅡㅡㅡㅡㅡㅡㅡㅡㅡㅡㅡㅡㅡㅡㅡㅡㅡㅡㅡㅡㅡ\n",
      "아이디는 = 8 메세지는 = 길이확인 생성날짜는 = 2023-01-15 07:01:47.269439+00:00\n"
     ]
    }
   ],
   "source": [
    "for post in qs:\n",
    "    print(post.message, post.created_at)\n",
    "    print(post.__dict__) #dict는 사전이다\n",
    "    print(\"ㅡㅡㅡㅡㅡㅡㅡㅡㅡㅡㅡㅡㅡㅡㅡㅡㅡㅡㅡㅡㅡㅡㅡㅡㅡㅡㅡㅡㅡㅡㅡ\")\n",
    "    print(\"아이디는 = {id} 메세지는 = {message} 생성날짜는 = {created_at}\".format(**post.__dict__))"
   ]
  },
  {
   "cell_type": "code",
   "execution_count": null,
   "id": "11593f5c",
   "metadata": {},
   "outputs": [],
   "source": []
  },
  {
   "cell_type": "code",
   "execution_count": 41,
   "id": "4d3009ad",
   "metadata": {},
   "outputs": [
    {
     "name": "stdout",
     "output_type": "stream",
     "text": [
      "<QuerySet [<Post: 첫번째 메세지>]>\n"
     ]
    }
   ],
   "source": [
    "query='메세지'\n",
    "# 다음줄 쓸려면 이스케이핑 처리 \\ 를 해줘야한다.\n",
    "qs = Post.objects.all()\\\n",
    "    .filter(message__icontains=query)\\\n",
    "    .order_by('-id')\n",
    "print(qs)"
   ]
  },
  {
   "cell_type": "code",
   "execution_count": 43,
   "id": "748c6b7c",
   "metadata": {},
   "outputs": [
    {
     "name": "stdout",
     "output_type": "stream",
     "text": [
      "<QuerySet [<Post: 첫번째 메세지>]>\n"
     ]
    }
   ],
   "source": [
    "query='메세지'\n",
    "# 이렇게 하는 방법도 있다.\n",
    "qs = Post.objects.all()\n",
    "qs = qs.filter(message__icontains=query)\n",
    "qs = qs.order_by('-id')\n",
    "print(qs)"
   ]
  },
  {
   "cell_type": "code",
   "execution_count": null,
   "id": "b90b3c1c",
   "metadata": {},
   "outputs": [],
   "source": []
  }
 ],
 "metadata": {
  "kernelspec": {
   "display_name": "Python 3 (ipykernel)",
   "language": "python",
   "name": "python3"
  },
  "language_info": {
   "codemirror_mode": {
    "name": "ipython",
    "version": 3
   },
   "file_extension": ".py",
   "mimetype": "text/x-python",
   "name": "python",
   "nbconvert_exporter": "python",
   "pygments_lexer": "ipython3",
   "version": "3.8.13"
  }
 },
 "nbformat": 4,
 "nbformat_minor": 5
}
